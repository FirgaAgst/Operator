{
 "cells": [
  {
   "cell_type": "markdown",
   "id": "1db79d0d",
   "metadata": {},
   "source": [
    "<h1> Operator Aritmatika <h1>"
   ]
  },
  {
   "cell_type": "code",
   "execution_count": 13,
   "id": "445be406",
   "metadata": {},
   "outputs": [
    {
     "name": "stdout",
     "output_type": "stream",
     "text": [
      "13\n",
      "7\n",
      "30\n",
      "3.3333333333333335\n",
      "3\n",
      "1000\n",
      "1\n"
     ]
    }
   ],
   "source": [
    "\n",
    "\n",
    "num1 = 10\n",
    "num2 = 3\n",
    "\n",
    "jumlah = num1 + num2\n",
    "kurang = num1 - num2\n",
    "kali =num1 * num2\n",
    "bagi =num1 / num2\n",
    "bagi_bulat =num1 // num2\n",
    "pangkat =num1 ** num2\n",
    "modulus =num1 % num2\n",
    "\n",
    "print(jumlah)\n",
    "print(kurang)\n",
    "print(kali)\n",
    "print(bagi)\n",
    "print(bagi_bulat)\n",
    "print(pangkat)\n",
    "print(modulus)"
   ]
  },
  {
   "cell_type": "code",
   "execution_count": 23,
   "id": "84d633aa",
   "metadata": {},
   "outputs": [
    {
     "ename": "SyntaxError",
     "evalue": "invalid syntax (2611554085.py, line 20)",
     "output_type": "error",
     "traceback": [
      "\u001b[1;36m  Input \u001b[1;32mIn [23]\u001b[1;36m\u001b[0m\n\u001b[1;33m    for i in range [0,5]\u001b[0m\n\u001b[1;37m                        ^\u001b[0m\n\u001b[1;31mSyntaxError\u001b[0m\u001b[1;31m:\u001b[0m invalid syntax\n"
     ]
    }
   ],
   "source": [
    "x =5 #assignment operator\n",
    "x +=10 # x = x + 10 => 15\n",
    "print(x)\n",
    "x -=4 # x = x - 4 => 11\n",
    "print(x)\n",
    "x *=2 # x = x * 2 => 22\n",
    "print(x)\n",
    "x /=3 # x = x / 3 => 7....\n",
    "print(x)\n",
    "x //=2 # x = x // 2 => 3.0\n",
    "print(x)\n",
    "x **=3 # x = x ** 3 => 27\n",
    "print(x)\n",
    "x %=2 # x = x % 2 => 1\n",
    "print(x)\n",
    "\n",
    "data= [1,2,3,4,5]\n",
    "total = 0\n",
    "\n",
    "for i in range [0,5]\n",
    "    total += data[i]\n",
    "print (\"Total : \" , total)\n"
   ]
  },
  {
   "cell_type": "markdown",
   "id": "b0e17bdf",
   "metadata": {},
   "source": [
    "<h2> Operator Perbandingan<h2>"
   ]
  },
  {
   "cell_type": "code",
   "execution_count": 19,
   "id": "b9c747fc",
   "metadata": {},
   "outputs": [
    {
     "name": "stdout",
     "output_type": "stream",
     "text": [
      "False\n",
      "True\n",
      "True\n",
      "False\n",
      "False\n",
      "False\n"
     ]
    }
   ],
   "source": [
    "bil1 = 8\n",
    "bil2 = 7\n",
    "\n",
    "is_equal = bil1 == bil2\n",
    "is_not_equal = bil1 != bil2\n",
    "is_greater_than = bil1 > bil2\n",
    "is_less_than = bil1 < bil2\n",
    "is_greater_equal = bil1 >= bil2\n",
    "is_less_equal = bil1 <= bil2\n",
    "\n",
    "print(is_equal)\n",
    "print(is_not_equal)\n",
    "print(is_greater_than)\n",
    "print(is_less_than)\n",
    "print(is_less_than)\n",
    "print(is_less_equal)"
   ]
  },
  {
   "cell_type": "markdown",
   "id": "431a6a81",
   "metadata": {},
   "source": [
    "<h2> OPERASI LOGIKA <h2>"
   ]
  },
  {
   "cell_type": "code",
   "execution_count": 26,
   "id": "816126f6",
   "metadata": {
    "scrolled": false
   },
   "outputs": [
    {
     "name": "stdout",
     "output_type": "stream",
     "text": [
      "True\n",
      "False\n",
      "True\n"
     ]
    }
   ],
   "source": [
    "var1 = 4\n",
    "var2 = 10\n",
    "\n",
    "opr_and = var1 < var2 and var1 <= 4 #True\n",
    "opr_or = var1 >= var2 or var1 % 2==1 #False\n",
    "opr_not = not opr_or\n",
    "print(opr_and)\n",
    "print(opr_or)\n",
    "print(opr_not)\n"
   ]
  },
  {
   "cell_type": "markdown",
   "id": "1df2b75f",
   "metadata": {},
   "source": [
    "<h2> Operator Identitas <h2>"
   ]
  },
  {
   "cell_type": "code",
   "execution_count": 29,
   "id": "cd1c293c",
   "metadata": {},
   "outputs": [
    {
     "name": "stdout",
     "output_type": "stream",
     "text": [
      "True\n",
      "False\n",
      "True\n",
      "False\n"
     ]
    }
   ],
   "source": [
    "fruits = [\"Applel\",\"Mangoes\",\"Watermelon\"]\n",
    "my_favorite_fruits = fruits\n",
    "your_favorite = [\"Applel\",\"Mangoes\",\"Watermelon\"]\n",
    "\n",
    "print(fruits is my_favorite_fruits)\n",
    "print(fruits is your_favorite)\n",
    "\n",
    "a = 5\n",
    "b = 5 #Python menggunakan metode hashing dalam memberikan nilai variabel\n",
    "print(a is b)\n",
    "print(a is not b)"
   ]
  },
  {
   "cell_type": "markdown",
   "id": "fc58b1df",
   "metadata": {},
   "source": [
    "<h2> Operator Keanggotaan <h2>"
   ]
  },
  {
   "cell_type": "code",
   "execution_count": 32,
   "id": "14bcb435",
   "metadata": {},
   "outputs": [
    {
     "name": "stdout",
     "output_type": "stream",
     "text": [
      "True\n",
      "False\n",
      "False\n",
      "True\n"
     ]
    }
   ],
   "source": [
    "student_names = [\"Andi\",\"Beni\",\"Chika\"]\n",
    "print(\"Beni\" in student_names)\n",
    "print(\"Andi\" not in student_names)\n",
    "print(\"Defi\" in student_names)\n",
    "print(\"Defi\" not in student_names)"
   ]
  },
  {
   "cell_type": "markdown",
   "id": "add89042",
   "metadata": {},
   "source": [
    "<h2> Operator Bitwise <h2>"
   ]
  },
  {
   "cell_type": "code",
   "execution_count": 36,
   "id": "d6b399fd",
   "metadata": {},
   "outputs": [
    {
     "name": "stdout",
     "output_type": "stream",
     "text": [
      "15\n",
      "255\n",
      "240\n"
     ]
    }
   ],
   "source": [
    "nilai_and = 255 & 15\n",
    "nilai_or = 255 | 15\n",
    "nilai_xor = 255 ^ 15\n",
    "#11111111\n",
    "#00001111\n",
    "#--------- and\n",
    "#00001111 => 16 + 32 + 64 + 128\n",
    "print(nilai_and)\n",
    "print(nilai_or)\n",
    "print(nilai_xor)"
   ]
  },
  {
   "cell_type": "code",
   "execution_count": null,
   "id": "ea7810b0",
   "metadata": {},
   "outputs": [],
   "source": []
  }
 ],
 "metadata": {
  "kernelspec": {
   "display_name": "Python 3 (ipykernel)",
   "language": "python",
   "name": "python3"
  },
  "language_info": {
   "codemirror_mode": {
    "name": "ipython",
    "version": 3
   },
   "file_extension": ".py",
   "mimetype": "text/x-python",
   "name": "python",
   "nbconvert_exporter": "python",
   "pygments_lexer": "ipython3",
   "version": "3.9.12"
  }
 },
 "nbformat": 4,
 "nbformat_minor": 5
}
